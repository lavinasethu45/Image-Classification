{
 "cells": [
  {
   "cell_type": "code",
   "execution_count": 2,
   "metadata": {},
   "outputs": [
    {
     "name": "stderr",
     "output_type": "stream",
     "text": [
      "Using TensorFlow backend.\n"
     ]
    }
   ],
   "source": [
    "##Importing libraries\n",
    "import numpy as np\n",
    "import pandas as pd\n",
    "from keras.preprocessing import image\n",
    "from tensorflow.keras.models import Sequential\n",
    "from tensorflow.keras.layers import Conv2D\n",
    "from tensorflow.keras.layers import MaxPool2D\n",
    "from tensorflow.keras.layers import Flatten\n",
    "from tensorflow.keras.layers import Dense\n",
    "from tensorflow.keras.layers import Dropout\n",
    "from tensorflow.keras.callbacks import EarlyStopping"
   ]
  },
  {
   "cell_type": "code",
   "execution_count": 3,
   "metadata": {},
   "outputs": [],
   "source": [
    "##Path\n",
    "path_of_train_data='Documents/DeepLearning/Kaggle/dataset/seg_train/seg_train'\n",
    "path_of_test_data='Documents/DeepLearning/Kaggle/dataset/seg_test/seg_test'"
   ]
  },
  {
   "cell_type": "code",
   "execution_count": 4,
   "metadata": {},
   "outputs": [
    {
     "name": "stdout",
     "output_type": "stream",
     "text": [
      "Found 14034 images belonging to 6 classes.\n"
     ]
    }
   ],
   "source": [
    "## Preprocessing training data\n",
    "train=image.ImageDataGenerator(rescale=1./255,shear_range=0.2,horizontal_flip=True,zoom_range=0.25)\n",
    "training_data=train.flow_from_directory(path_of_train_data,target_size=(64,64),batch_size=32,class_mode='categorical')\n"
   ]
  },
  {
   "cell_type": "code",
   "execution_count": 5,
   "metadata": {},
   "outputs": [
    {
     "name": "stdout",
     "output_type": "stream",
     "text": [
      "Found 3000 images belonging to 6 classes.\n"
     ]
    }
   ],
   "source": [
    "## Preprocessing test data\n",
    "test=image.ImageDataGenerator(rescale=1./255)\n",
    "testing_data=test.flow_from_directory(path_of_test_data,target_size=(64,64),batch_size=32,class_mode='categorical')"
   ]
  },
  {
   "cell_type": "code",
   "execution_count": 6,
   "metadata": {},
   "outputs": [],
   "source": [
    "##Build CNN model\n",
    "model=Sequential()\n",
    "model.add(Conv2D(filters=64,kernel_size=3,activation='relu',input_shape=[64,64,3]))\n",
    "model.add(MaxPool2D(pool_size=2,strides=2))\n",
    "model.add(Conv2D(filters=64,kernel_size=3,activation='relu'))\n",
    "model.add(MaxPool2D(pool_size=2,strides=2))\n",
    "model.add(Conv2D(filters=128,kernel_size=3,activation='relu'))\n",
    "model.add(MaxPool2D(pool_size=2,strides=2))\n",
    "model.add(Conv2D(filters=256,kernel_size=3,activation='relu'))\n",
    "model.add(MaxPool2D(pool_size=2,strides=2))\n",
    "\n",
    "model.add(Flatten())\n",
    "\n",
    "model.add(Dense(units=180,activation='relu'))\n",
    "model.add(Dropout(0.2))\n",
    "\n",
    "model.add(Dense(units=180,activation='relu'))\n",
    "model.add(Dropout(0.2))\n",
    "\n",
    "model.add(Dense(units=6,activation='softmax'))"
   ]
  },
  {
   "cell_type": "code",
   "execution_count": 7,
   "metadata": {},
   "outputs": [],
   "source": [
    "##Compilation\n",
    "model.compile(optimizer='adam',loss='categorical_crossentropy',metrics=['accuracy'])"
   ]
  },
  {
   "cell_type": "code",
   "execution_count": 8,
   "metadata": {},
   "outputs": [],
   "source": [
    "##Early stopping\n",
    "early_stop=EarlyStopping(monitor='val_loss',mode='min',verbose=1)"
   ]
  },
  {
   "cell_type": "code",
   "execution_count": 10,
   "metadata": {},
   "outputs": [
    {
     "name": "stdout",
     "output_type": "stream",
     "text": [
      "WARNING:tensorflow:sample_weight modes were coerced from\n",
      "  ...\n",
      "    to  \n",
      "  ['...']\n",
      "WARNING:tensorflow:sample_weight modes were coerced from\n",
      "  ...\n",
      "    to  \n",
      "  ['...']\n",
      "Train for 439 steps, validate for 94 steps\n",
      "Epoch 1/20\n",
      "439/439 [==============================] - 79s 179ms/step - loss: 0.5760 - accuracy: 0.7969 - val_loss: 0.5815 - val_accuracy: 0.7887\n",
      "Epoch 2/20\n",
      "439/439 [==============================] - 84s 191ms/step - loss: 0.5606 - accuracy: 0.8028 - val_loss: 0.5777 - val_accuracy: 0.7990\n",
      "Epoch 3/20\n",
      "439/439 [==============================] - 84s 192ms/step - loss: 0.5282 - accuracy: 0.8159 - val_loss: 0.5346 - val_accuracy: 0.8087\n",
      "Epoch 4/20\n",
      "439/439 [==============================] - 85s 195ms/step - loss: 0.5061 - accuracy: 0.8223 - val_loss: 0.4969 - val_accuracy: 0.8300\n",
      "Epoch 5/20\n",
      "439/439 [==============================] - 86s 197ms/step - loss: 0.4824 - accuracy: 0.8298 - val_loss: 0.4758 - val_accuracy: 0.8250\n",
      "Epoch 6/20\n",
      "439/439 [==============================] - 88s 200ms/step - loss: 0.4771 - accuracy: 0.8303 - val_loss: 0.4659 - val_accuracy: 0.8310\n",
      "Epoch 7/20\n",
      "439/439 [==============================] - 82s 187ms/step - loss: 0.4561 - accuracy: 0.8395 - val_loss: 0.4849 - val_accuracy: 0.8230\n",
      "Epoch 00007: early stopping\n"
     ]
    },
    {
     "data": {
      "text/plain": [
       "<tensorflow.python.keras.callbacks.History at 0x1dc5b717448>"
      ]
     },
     "execution_count": 10,
     "metadata": {},
     "output_type": "execute_result"
    }
   ],
   "source": [
    "##Fit the model\n",
    "model.fit(x=training_data,validation_data=testing_data,epochs=20,verbose=1,callbacks=[early_stop])"
   ]
  },
  {
   "cell_type": "code",
   "execution_count": 11,
   "metadata": {},
   "outputs": [
    {
     "data": {
      "text/plain": [
       "<matplotlib.axes._subplots.AxesSubplot at 0x1dc5c1d3e48>"
      ]
     },
     "execution_count": 11,
     "metadata": {},
     "output_type": "execute_result"
    },
    {
     "data": {
      "image/png": "[encoded data removed]",
      "text/plain": [
       "<Figure size 432x288 with 1 Axes>"
      ]
     },
     "metadata": {
      "needs_background": "light"
     },
     "output_type": "display_data"
    }
   ],
   "source": [
    "##Plot\n",
    "loss_value=pd.DataFrame(model.history.history)\n",
    "loss_value[['loss','val_loss']].plot()"
   ]
  },
  {
   "cell_type": "code",
   "execution_count": 45,
   "metadata": {},
   "outputs": [],
   "source": [
    "##Loading test image\n",
    "test_image=image.load_img('Documents/DeepLearning/Kaggle/dataset/seg_pred/seg_pred/5571.jpg',target_size=(64,64))\n",
    "test_image=image.img_to_array(test_image)\n",
    "test_image=np.expand_dims(test_image,axis=0)"
   ]
  },
  {
   "cell_type": "code",
   "execution_count": 46,
   "metadata": {},
   "outputs": [],
   "source": [
    "##Predicting the image\n",
    "prediction=model.predict(test_image)"
   ]
  },
  {
   "cell_type": "code",
   "execution_count": 47,
   "metadata": {},
   "outputs": [],
   "source": [
    "##Identifying the class indices\n",
    "if prediction[0][0] == 1:\n",
    "    output='Building'\n",
    "elif prediction[0][1] == 1:\n",
    "    output='Forest'\n",
    "elif prediction[0][2] == 1:\n",
    "    output='Glacier'\n",
    "elif prediction[0][3] == 1:\n",
    "    output='Mountain'\n",
    "elif prediction[0][4] == 1:\n",
    "    output='Sea'\n",
    "else:\n",
    "    output='Street'"
   ]
  },
  {
   "cell_type": "code",
   "execution_count": 48,
   "metadata": {},
   "outputs": [
    {
     "name": "stdout",
     "output_type": "stream",
     "text": [
      "Street\n"
     ]
    }
   ],
   "source": [
    "##Printing the output\n",
    "print(output)"
   ]
  },
  {
   "cell_type": "code",
   "execution_count": null,
   "metadata": {},
   "outputs": [],
   "source": []
  }
 ],
 "metadata": {
  "kernelspec": {
   "display_name": "Python 3",
   "language": "python",
   "name": "python3"
  },
  "language_info": {
   "codemirror_mode": {
    "name": "ipython",
    "version": 3
   },
   "file_extension": ".py",
   "mimetype": "text/x-python",
   "name": "python",
   "nbconvert_exporter": "python",
   "pygments_lexer": "ipython3",
   "version": "3.7.7"
  }
 },
 "nbformat": 4,
 "nbformat_minor": 4
}
